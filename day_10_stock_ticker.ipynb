{
 "cells": [
  {
   "cell_type": "markdown",
   "id": "61eba993",
   "metadata": {},
   "source": [
    "Goes straight to pandas df not json"
   ]
  },
  {
   "cell_type": "code",
   "execution_count": 1,
   "id": "47579545",
   "metadata": {},
   "outputs": [],
   "source": [
    "# heroku app name\n",
    "# shielded-inlet-98365\n",
    "# import os"
   ]
  },
  {
   "cell_type": "code",
   "execution_count": null,
   "id": "6bb9c119",
   "metadata": {},
   "outputs": [],
   "source": [
    "#HERE NEED A HELPER THAT GETS AT LEAST A MONTH SO I CAN SELECT A MONTH FROM IT"
   ]
  },
  {
   "cell_type": "code",
   "execution_count": 125,
   "id": "fa770e8f",
   "metadata": {},
   "outputs": [],
   "source": [
    " import streamlit as st\n",
    "# To make things easier later, we're also importing numpy and pandas for\n",
    "# working with sample data.\n",
    "import numpy as np\n",
    "import pandas as pd\n",
    "import time\n",
    "\n",
    "import matplotlib.pyplot as plt\n",
    "from alpha_vantage.timeseries import TimeSeries\n",
    "\n",
    "import altair as alt\n",
    "\n",
    "\n",
    "import requests\n",
    "\n",
    "\n",
    "ts = TimeSeries(key, output_format='pandas')\n",
    "# data, meta = ts.get_intraday('TSLA', interval='1min', outputsize='full')\n",
    "# data, meta = ts.get_intraday('GOOG', interval='1min', outputsize='full')\n",
    "data, meta = ts.get_daily('GOOG', outputsize='full')\n",
    "# data, meta = ts.get_intraday_extended('TSLA', interval='1min')\n"
   ]
  },
  {
   "cell_type": "code",
   "execution_count": 11,
   "id": "8008530d",
   "metadata": {},
   "outputs": [
    {
     "data": {
      "text/plain": [
       "{'1. Information': 'Intraday (1min) open, high, low, close prices and volume',\n",
       " '2. Symbol': 'TSLA',\n",
       " '3. Last Refreshed': '2021-09-09 20:00:00',\n",
       " '4. Interval': '1min',\n",
       " '5. Output Size': 'Full size',\n",
       " '6. Time Zone': 'US/Eastern'}"
      ]
     },
     "execution_count": 11,
     "metadata": {},
     "output_type": "execute_result"
    }
   ],
   "source": [
    "meta"
   ]
  },
  {
   "cell_type": "code",
   "execution_count": 12,
   "id": "bbe14382",
   "metadata": {},
   "outputs": [
    {
     "name": "stdout",
     "output_type": "stream",
     "text": [
      "<class 'pandas.core.frame.DataFrame'>\n",
      "DatetimeIndex: 5748 entries, 2021-09-09 20:00:00 to 2021-08-27 04:01:00\n",
      "Data columns (total 5 columns):\n",
      " #   Column     Non-Null Count  Dtype  \n",
      "---  ------     --------------  -----  \n",
      " 0   1. open    5748 non-null   float64\n",
      " 1   2. high    5748 non-null   float64\n",
      " 2   3. low     5748 non-null   float64\n",
      " 3   4. close   5748 non-null   float64\n",
      " 4   5. volume  5748 non-null   float64\n",
      "dtypes: float64(5)\n",
      "memory usage: 269.4 KB\n"
     ]
    }
   ],
   "source": [
    "data.info()"
   ]
  },
  {
   "cell_type": "code",
   "execution_count": 119,
   "id": "2b155396",
   "metadata": {},
   "outputs": [
    {
     "name": "stdout",
     "output_type": "stream",
     "text": [
      "            1. open  2. high   3. low  4. close  5. volume\n",
      "date                                                      \n",
      "2021-09-09  2897.67  2913.39  2888.68   2898.27   739928.0\n",
      "            1. open  2. high  3. low  4. close  5. volume\n",
      "date                                                     \n",
      "2014-03-27    568.0    568.0  552.92    558.46    13100.0\n"
     ]
    }
   ],
   "source": [
    "print(data.head(1))\n",
    "print(data.tail(1))"
   ]
  },
  {
   "cell_type": "code",
   "execution_count": 130,
   "id": "e2024ec0",
   "metadata": {},
   "outputs": [],
   "source": [
    "data['year'] = data.index.year\n",
    "data['month'] = data.index.year\n",
    "\n",
    "# data[data.index.year== 2020]"
   ]
  },
  {
   "cell_type": "code",
   "execution_count": 122,
   "id": "86ea3902",
   "metadata": {},
   "outputs": [],
   "source": [
    "# data[data.index.year== 2020]\n",
    "#set index to column\n",
    "data.reset_index(level=0, inplace=True)"
   ]
  },
  {
   "cell_type": "code",
   "execution_count": 131,
   "id": "981529a6",
   "metadata": {},
   "outputs": [
    {
     "data": {
      "text/html": [
       "<div>\n",
       "<style scoped>\n",
       "    .dataframe tbody tr th:only-of-type {\n",
       "        vertical-align: middle;\n",
       "    }\n",
       "\n",
       "    .dataframe tbody tr th {\n",
       "        vertical-align: top;\n",
       "    }\n",
       "\n",
       "    .dataframe thead th {\n",
       "        text-align: right;\n",
       "    }\n",
       "</style>\n",
       "<table border=\"1\" class=\"dataframe\">\n",
       "  <thead>\n",
       "    <tr style=\"text-align: right;\">\n",
       "      <th></th>\n",
       "      <th>1. open</th>\n",
       "      <th>2. high</th>\n",
       "      <th>3. low</th>\n",
       "      <th>4. close</th>\n",
       "      <th>5. volume</th>\n",
       "      <th>year</th>\n",
       "      <th>month</th>\n",
       "    </tr>\n",
       "    <tr>\n",
       "      <th>date</th>\n",
       "      <th></th>\n",
       "      <th></th>\n",
       "      <th></th>\n",
       "      <th></th>\n",
       "      <th></th>\n",
       "      <th></th>\n",
       "      <th></th>\n",
       "    </tr>\n",
       "  </thead>\n",
       "  <tbody>\n",
       "    <tr>\n",
       "      <th>2021-09-09</th>\n",
       "      <td>2897.67</td>\n",
       "      <td>2913.39</td>\n",
       "      <td>2888.68</td>\n",
       "      <td>2898.27</td>\n",
       "      <td>739928.0</td>\n",
       "      <td>2021</td>\n",
       "      <td>2021</td>\n",
       "    </tr>\n",
       "    <tr>\n",
       "      <th>2021-09-08</th>\n",
       "      <td>2907.87</td>\n",
       "      <td>2911.02</td>\n",
       "      <td>2884.00</td>\n",
       "      <td>2897.67</td>\n",
       "      <td>774583.0</td>\n",
       "      <td>2021</td>\n",
       "      <td>2021</td>\n",
       "    </tr>\n",
       "    <tr>\n",
       "      <th>2021-09-07</th>\n",
       "      <td>2894.99</td>\n",
       "      <td>2916.48</td>\n",
       "      <td>2890.82</td>\n",
       "      <td>2910.38</td>\n",
       "      <td>758630.0</td>\n",
       "      <td>2021</td>\n",
       "      <td>2021</td>\n",
       "    </tr>\n",
       "    <tr>\n",
       "      <th>2021-09-03</th>\n",
       "      <td>2882.92</td>\n",
       "      <td>2907.54</td>\n",
       "      <td>2870.10</td>\n",
       "      <td>2895.50</td>\n",
       "      <td>955524.0</td>\n",
       "      <td>2021</td>\n",
       "      <td>2021</td>\n",
       "    </tr>\n",
       "    <tr>\n",
       "      <th>2021-09-02</th>\n",
       "      <td>2918.99</td>\n",
       "      <td>2926.50</td>\n",
       "      <td>2882.13</td>\n",
       "      <td>2884.38</td>\n",
       "      <td>1092790.0</td>\n",
       "      <td>2021</td>\n",
       "      <td>2021</td>\n",
       "    </tr>\n",
       "  </tbody>\n",
       "</table>\n",
       "</div>"
      ],
      "text/plain": [
       "            1. open  2. high   3. low  4. close  5. volume  year  month\n",
       "date                                                                   \n",
       "2021-09-09  2897.67  2913.39  2888.68   2898.27   739928.0  2021   2021\n",
       "2021-09-08  2907.87  2911.02  2884.00   2897.67   774583.0  2021   2021\n",
       "2021-09-07  2894.99  2916.48  2890.82   2910.38   758630.0  2021   2021\n",
       "2021-09-03  2882.92  2907.54  2870.10   2895.50   955524.0  2021   2021\n",
       "2021-09-02  2918.99  2926.50  2882.13   2884.38  1092790.0  2021   2021"
      ]
     },
     "execution_count": 131,
     "metadata": {},
     "output_type": "execute_result"
    }
   ],
   "source": [
    "data.head()\n",
    "# data[data.date.year]"
   ]
  },
  {
   "cell_type": "markdown",
   "id": "7c592d7f",
   "metadata": {},
   "source": [
    "## 4.2 Pick a year/month"
   ]
  },
  {
   "cell_type": "code",
   "execution_count": 43,
   "id": "ef093fc0",
   "metadata": {},
   "outputs": [
    {
     "data": {
      "text/html": [
       "<div>\n",
       "<style scoped>\n",
       "    .dataframe tbody tr th:only-of-type {\n",
       "        vertical-align: middle;\n",
       "    }\n",
       "\n",
       "    .dataframe tbody tr th {\n",
       "        vertical-align: top;\n",
       "    }\n",
       "\n",
       "    .dataframe thead th {\n",
       "        text-align: right;\n",
       "    }\n",
       "</style>\n",
       "<table border=\"1\" class=\"dataframe\">\n",
       "  <thead>\n",
       "    <tr style=\"text-align: right;\">\n",
       "      <th></th>\n",
       "      <th>4. close</th>\n",
       "    </tr>\n",
       "    <tr>\n",
       "      <th>date</th>\n",
       "      <th></th>\n",
       "    </tr>\n",
       "  </thead>\n",
       "  <tbody>\n",
       "    <tr>\n",
       "      <th>2021-09-09</th>\n",
       "      <td>2898.27</td>\n",
       "    </tr>\n",
       "    <tr>\n",
       "      <th>2021-09-08</th>\n",
       "      <td>2897.67</td>\n",
       "    </tr>\n",
       "    <tr>\n",
       "      <th>2021-09-07</th>\n",
       "      <td>2910.38</td>\n",
       "    </tr>\n",
       "    <tr>\n",
       "      <th>2021-09-03</th>\n",
       "      <td>2895.50</td>\n",
       "    </tr>\n",
       "    <tr>\n",
       "      <th>2021-09-02</th>\n",
       "      <td>2884.38</td>\n",
       "    </tr>\n",
       "    <tr>\n",
       "      <th>...</th>\n",
       "      <td>...</td>\n",
       "    </tr>\n",
       "    <tr>\n",
       "      <th>2014-04-02</th>\n",
       "      <td>567.00</td>\n",
       "    </tr>\n",
       "    <tr>\n",
       "      <th>2014-04-01</th>\n",
       "      <td>567.16</td>\n",
       "    </tr>\n",
       "    <tr>\n",
       "      <th>2014-03-31</th>\n",
       "      <td>556.97</td>\n",
       "    </tr>\n",
       "    <tr>\n",
       "      <th>2014-03-28</th>\n",
       "      <td>559.99</td>\n",
       "    </tr>\n",
       "    <tr>\n",
       "      <th>2014-03-27</th>\n",
       "      <td>558.46</td>\n",
       "    </tr>\n",
       "  </tbody>\n",
       "</table>\n",
       "<p>1878 rows × 1 columns</p>\n",
       "</div>"
      ],
      "text/plain": [
       "            4. close\n",
       "date                \n",
       "2021-09-09   2898.27\n",
       "2021-09-08   2897.67\n",
       "2021-09-07   2910.38\n",
       "2021-09-03   2895.50\n",
       "2021-09-02   2884.38\n",
       "...              ...\n",
       "2014-04-02    567.00\n",
       "2014-04-01    567.16\n",
       "2014-03-31    556.97\n",
       "2014-03-28    559.99\n",
       "2014-03-27    558.46\n",
       "\n",
       "[1878 rows x 1 columns]"
      ]
     },
     "execution_count": 43,
     "metadata": {},
     "output_type": "execute_result"
    }
   ],
   "source": [
    "data[['4. close']]"
   ]
  },
  {
   "cell_type": "code",
   "execution_count": 89,
   "id": "11b25ad2",
   "metadata": {},
   "outputs": [],
   "source": [
    "#year and month selection\n",
    "data=data[data.index.year == 2020]\n",
    "data=data[data.index.month == 11]\n",
    "#keep only closing\n",
    "data=data[['4. close']]"
   ]
  },
  {
   "cell_type": "code",
   "execution_count": 45,
   "id": "ac5508e5",
   "metadata": {},
   "outputs": [
    {
     "data": {
      "text/plain": [
       "[<matplotlib.lines.Line2D at 0x1e51aca8b20>]"
      ]
     },
     "execution_count": 45,
     "metadata": {},
     "output_type": "execute_result"
    },
    {
     "data": {
      "image/png": "[encoded data removed]",
      "text/plain": [
       "<Figure size 432x288 with 1 Axes>"
      ]
     },
     "metadata": {
      "needs_background": "light"
     },
     "output_type": "display_data"
    }
   ],
   "source": [
    "plt.plot(data['4. close'])"
   ]
  },
  {
   "cell_type": "code",
   "execution_count": 111,
   "id": "bf5e4189",
   "metadata": {},
   "outputs": [
    {
     "name": "stderr",
     "output_type": "stream",
     "text": [
      "C:\\Users\\charl\\anaconda3\\lib\\site-packages\\streamlit\\elements\\arrow_altair.py:91: FutureWarning: This dataframe has a column name that matches the 'value_name' column name of the resulting Dataframe. In the future this will raise an error, please set the 'value_name' parameter of DataFrame.melt to a unique name.\n",
      "  chart = _generate_chart(ChartType.LINE, data, width, height)\n"
     ]
    }
   ],
   "source": [
    "# HERE WITH tuples_df ITERATE THRU ROWS TO plot graph\n",
    "chart = st.line_chart(#year and month selection)"
   ]
  },
  {
   "cell_type": "code",
   "execution_count": 46,
   "id": "2cbb4299",
   "metadata": {},
   "outputs": [
    {
     "ename": "SyntaxError",
     "evalue": "invalid syntax (<ipython-input-46-f1e0740ad7fe>, line 1)",
     "output_type": "error",
     "traceback": [
      "\u001b[1;36m  File \u001b[1;32m\"<ipython-input-46-f1e0740ad7fe>\"\u001b[1;36m, line \u001b[1;32m1\u001b[0m\n\u001b[1;33m    [-1,:]\u001b[0m\n\u001b[1;37m        ^\u001b[0m\n\u001b[1;31mSyntaxError\u001b[0m\u001b[1;31m:\u001b[0m invalid syntax\n"
     ]
    }
   ],
   "source": [
    "[-1,:]"
   ]
  },
  {
   "cell_type": "code",
   "execution_count": 67,
   "id": "96a12e1a",
   "metadata": {},
   "outputs": [
    {
     "data": {
      "text/plain": [
       "4. close    1793.19\n",
       "Name: 2020-11-27 00:00:00, dtype: float64"
      ]
     },
     "execution_count": 67,
     "metadata": {},
     "output_type": "execute_result"
    }
   ],
   "source": [
    "data.iloc[1]"
   ]
  },
  {
   "cell_type": "code",
   "execution_count": 72,
   "id": "14b448f4",
   "metadata": {},
   "outputs": [
    {
     "data": {
      "text/plain": [
       "4. close    1793.19\n",
       "Name: 2020-11-27 00:00:00, dtype: float64"
      ]
     },
     "execution_count": 72,
     "metadata": {},
     "output_type": "execute_result"
    }
   ],
   "source": [
    "data.iloc[1]"
   ]
  },
  {
   "cell_type": "code",
   "execution_count": 73,
   "id": "6a9d8c54",
   "metadata": {},
   "outputs": [
    {
     "data": {
      "text/plain": [
       "20"
      ]
     },
     "execution_count": 73,
     "metadata": {},
     "output_type": "execute_result"
    }
   ],
   "source": [
    "len(data)"
   ]
  },
  {
   "cell_type": "code",
   "execution_count": 84,
   "id": "415f7b69",
   "metadata": {},
   "outputs": [],
   "source": [
    "data['index1'] = data.index"
   ]
  },
  {
   "cell_type": "code",
   "execution_count": 117,
   "id": "62419751",
   "metadata": {},
   "outputs": [
    {
     "data": {
      "text/html": [
       "<div>\n",
       "<style scoped>\n",
       "    .dataframe tbody tr th:only-of-type {\n",
       "        vertical-align: middle;\n",
       "    }\n",
       "\n",
       "    .dataframe tbody tr th {\n",
       "        vertical-align: top;\n",
       "    }\n",
       "\n",
       "    .dataframe thead th {\n",
       "        text-align: right;\n",
       "    }\n",
       "</style>\n",
       "<table border=\"1\" class=\"dataframe\">\n",
       "  <thead>\n",
       "    <tr style=\"text-align: right;\">\n",
       "      <th></th>\n",
       "      <th>level_0</th>\n",
       "      <th>index</th>\n",
       "      <th>date</th>\n",
       "      <th>4. close</th>\n",
       "      <th>Close</th>\n",
       "    </tr>\n",
       "  </thead>\n",
       "  <tbody>\n",
       "    <tr>\n",
       "      <th>0</th>\n",
       "      <td>0</td>\n",
       "      <td>0</td>\n",
       "      <td>2020-11-30</td>\n",
       "      <td>1760.74</td>\n",
       "      <td>1760.74</td>\n",
       "    </tr>\n",
       "    <tr>\n",
       "      <th>1</th>\n",
       "      <td>1</td>\n",
       "      <td>1</td>\n",
       "      <td>2020-11-27</td>\n",
       "      <td>1793.19</td>\n",
       "      <td>1793.19</td>\n",
       "    </tr>\n",
       "    <tr>\n",
       "      <th>2</th>\n",
       "      <td>2</td>\n",
       "      <td>2</td>\n",
       "      <td>2020-11-25</td>\n",
       "      <td>1771.43</td>\n",
       "      <td>1771.43</td>\n",
       "    </tr>\n",
       "    <tr>\n",
       "      <th>3</th>\n",
       "      <td>3</td>\n",
       "      <td>3</td>\n",
       "      <td>2020-11-24</td>\n",
       "      <td>1768.88</td>\n",
       "      <td>1768.88</td>\n",
       "    </tr>\n",
       "    <tr>\n",
       "      <th>4</th>\n",
       "      <td>4</td>\n",
       "      <td>4</td>\n",
       "      <td>2020-11-23</td>\n",
       "      <td>1734.86</td>\n",
       "      <td>1734.86</td>\n",
       "    </tr>\n",
       "  </tbody>\n",
       "</table>\n",
       "</div>"
      ],
      "text/plain": [
       "   level_0  index       date  4. close    Close\n",
       "0        0      0 2020-11-30   1760.74  1760.74\n",
       "1        1      1 2020-11-27   1793.19  1793.19\n",
       "2        2      2 2020-11-25   1771.43  1771.43\n",
       "3        3      3 2020-11-24   1768.88  1768.88\n",
       "4        4      4 2020-11-23   1734.86  1734.86"
      ]
     },
     "execution_count": 117,
     "metadata": {},
     "output_type": "execute_result"
    }
   ],
   "source": [
    "data.head()"
   ]
  },
  {
   "cell_type": "markdown",
   "id": "444d0bd0",
   "metadata": {},
   "source": [
    "## mod df for plotting"
   ]
  },
  {
   "cell_type": "code",
   "execution_count": 111,
   "id": "be02a8e5",
   "metadata": {},
   "outputs": [],
   "source": [
    "#set index to column\n",
    "data.reset_index(level=0, inplace=True)\n",
    "#rename the 4. close column to something plottable\n",
    "data=data.assign(Close=pd.to_numeric(data['4. close']))"
   ]
  },
  {
   "cell_type": "code",
   "execution_count": 116,
   "id": "ae5b5469",
   "metadata": {},
   "outputs": [
    {
     "ename": "AttributeError",
     "evalue": "'RangeIndex' object has no attribute 'year'",
     "output_type": "error",
     "traceback": [
      "\u001b[1;31m---------------------------------------------------------------------------\u001b[0m",
      "\u001b[1;31mAttributeError\u001b[0m                            Traceback (most recent call last)",
      "\u001b[1;32m<ipython-input-116-e4df1576b658>\u001b[0m in \u001b[0;36m<module>\u001b[1;34m\u001b[0m\n\u001b[1;32m----> 1\u001b[1;33m \u001b[0mdata\u001b[0m\u001b[1;33m[\u001b[0m\u001b[0mdata\u001b[0m\u001b[1;33m.\u001b[0m\u001b[0mindex\u001b[0m\u001b[1;33m.\u001b[0m\u001b[0myear\u001b[0m\u001b[1;33m]\u001b[0m\u001b[1;33m\u001b[0m\u001b[1;33m\u001b[0m\u001b[0m\n\u001b[0m",
      "\u001b[1;31mAttributeError\u001b[0m: 'RangeIndex' object has no attribute 'year'"
     ]
    }
   ],
   "source": [
    "data[data.index.year]"
   ]
  },
  {
   "cell_type": "code",
   "execution_count": 113,
   "id": "9024f03d",
   "metadata": {},
   "outputs": [
    {
     "data": {
      "text/html": [
       "\n",
       "<div id=\"altair-viz-6f9639852a564a44bc95ebf7d4ed0c96\"></div>\n",
       "<script type=\"text/javascript\">\n",
       "  (function(spec, embedOpt){\n",
       "    let outputDiv = document.currentScript.previousElementSibling;\n",
       "    if (outputDiv.id !== \"altair-viz-6f9639852a564a44bc95ebf7d4ed0c96\") {\n",
       "      outputDiv = document.getElementById(\"altair-viz-6f9639852a564a44bc95ebf7d4ed0c96\");\n",
       "    }\n",
       "    const paths = {\n",
       "      \"vega\": \"https://cdn.jsdelivr.net/npm//vega@5?noext\",\n",
       "      \"vega-lib\": \"https://cdn.jsdelivr.net/npm//vega-lib?noext\",\n",
       "      \"vega-lite\": \"https://cdn.jsdelivr.net/npm//vega-lite@4.8.1?noext\",\n",
       "      \"vega-embed\": \"https://cdn.jsdelivr.net/npm//vega-embed@6?noext\",\n",
       "    };\n",
       "\n",
       "    function loadScript(lib) {\n",
       "      return new Promise(function(resolve, reject) {\n",
       "        var s = document.createElement('script');\n",
       "        s.src = paths[lib];\n",
       "        s.async = true;\n",
       "        s.onload = () => resolve(paths[lib]);\n",
       "        s.onerror = () => reject(`Error loading script: ${paths[lib]}`);\n",
       "        document.getElementsByTagName(\"head\")[0].appendChild(s);\n",
       "      });\n",
       "    }\n",
       "\n",
       "    function showError(err) {\n",
       "      outputDiv.innerHTML = `<div class=\"error\" style=\"color:red;\">${err}</div>`;\n",
       "      throw err;\n",
       "    }\n",
       "\n",
       "    function displayChart(vegaEmbed) {\n",
       "      vegaEmbed(outputDiv, spec, embedOpt)\n",
       "        .catch(err => showError(`Javascript Error: ${err.message}<br>This usually means there's a typo in your chart specification. See the javascript console for the full traceback.`));\n",
       "    }\n",
       "\n",
       "    if(typeof define === \"function\" && define.amd) {\n",
       "      requirejs.config({paths});\n",
       "      require([\"vega-embed\"], displayChart, err => showError(`Error loading script: ${err.message}`));\n",
       "    } else if (typeof vegaEmbed === \"function\") {\n",
       "      displayChart(vegaEmbed);\n",
       "    } else {\n",
       "      loadScript(\"vega\")\n",
       "        .then(() => loadScript(\"vega-lite\"))\n",
       "        .then(() => loadScript(\"vega-embed\"))\n",
       "        .catch(showError)\n",
       "        .then(() => displayChart(vegaEmbed));\n",
       "    }\n",
       "  })({\"config\": {\"view\": {\"continuousWidth\": 400, \"continuousHeight\": 300}}, \"data\": {\"name\": \"data-784500ba19b21f0d4221c76f7e08af7d\"}, \"mark\": \"line\", \"encoding\": {\"x\": {\"type\": \"temporal\", \"field\": \"date\"}, \"y\": {\"type\": \"quantitative\", \"field\": \"Close\"}}, \"$schema\": \"https://vega.github.io/schema/vega-lite/v4.8.1.json\", \"datasets\": {\"data-784500ba19b21f0d4221c76f7e08af7d\": [{\"level_0\": 0, \"index\": 0, \"date\": \"2020-11-30T00:00:00\", \"4. close\": 1760.74, \"Close\": 1760.74}, {\"level_0\": 1, \"index\": 1, \"date\": \"2020-11-27T00:00:00\", \"4. close\": 1793.19, \"Close\": 1793.19}, {\"level_0\": 2, \"index\": 2, \"date\": \"2020-11-25T00:00:00\", \"4. close\": 1771.43, \"Close\": 1771.43}, {\"level_0\": 3, \"index\": 3, \"date\": \"2020-11-24T00:00:00\", \"4. close\": 1768.88, \"Close\": 1768.88}, {\"level_0\": 4, \"index\": 4, \"date\": \"2020-11-23T00:00:00\", \"4. close\": 1734.86, \"Close\": 1734.86}, {\"level_0\": 5, \"index\": 5, \"date\": \"2020-11-20T00:00:00\", \"4. close\": 1742.19, \"Close\": 1742.19}, {\"level_0\": 6, \"index\": 6, \"date\": \"2020-11-19T00:00:00\", \"4. close\": 1763.92, \"Close\": 1763.92}, {\"level_0\": 7, \"index\": 7, \"date\": \"2020-11-18T00:00:00\", \"4. close\": 1746.78, \"Close\": 1746.78}, {\"level_0\": 8, \"index\": 8, \"date\": \"2020-11-17T00:00:00\", \"4. close\": 1770.15, \"Close\": 1770.15}, {\"level_0\": 9, \"index\": 9, \"date\": \"2020-11-16T00:00:00\", \"4. close\": 1781.38, \"Close\": 1781.38}, {\"level_0\": 10, \"index\": 10, \"date\": \"2020-11-13T00:00:00\", \"4. close\": 1777.02, \"Close\": 1777.02}, {\"level_0\": 11, \"index\": 11, \"date\": \"2020-11-12T00:00:00\", \"4. close\": 1749.84, \"Close\": 1749.84}, {\"level_0\": 12, \"index\": 12, \"date\": \"2020-11-11T00:00:00\", \"4. close\": 1752.71, \"Close\": 1752.71}, {\"level_0\": 13, \"index\": 13, \"date\": \"2020-11-10T00:00:00\", \"4. close\": 1740.39, \"Close\": 1740.39}, {\"level_0\": 14, \"index\": 14, \"date\": \"2020-11-09T00:00:00\", \"4. close\": 1763.0, \"Close\": 1763.0}, {\"level_0\": 15, \"index\": 15, \"date\": \"2020-11-06T00:00:00\", \"4. close\": 1761.75, \"Close\": 1761.75}, {\"level_0\": 16, \"index\": 16, \"date\": \"2020-11-05T00:00:00\", \"4. close\": 1763.37, \"Close\": 1763.37}, {\"level_0\": 17, \"index\": 17, \"date\": \"2020-11-04T00:00:00\", \"4. close\": 1749.13, \"Close\": 1749.13}, {\"level_0\": 18, \"index\": 18, \"date\": \"2020-11-03T00:00:00\", \"4. close\": 1650.21, \"Close\": 1650.21}, {\"level_0\": 19, \"index\": 19, \"date\": \"2020-11-02T00:00:00\", \"4. close\": 1626.03, \"Close\": 1626.03}]}}, {\"mode\": \"vega-lite\"});\n",
       "</script>"
      ],
      "text/plain": [
       "alt.Chart(...)"
      ]
     },
     "execution_count": 113,
     "metadata": {},
     "output_type": "execute_result"
    }
   ],
   "source": [
    "alt.Chart(data).mark_line().encode(\n",
    "  x=('date'),\n",
    "  y=('Close')\n",
    ")"
   ]
  }
 ],
 "metadata": {
  "kernelspec": {
   "display_name": "Python 3",
   "language": "python",
   "name": "python3"
  },
  "language_info": {
   "codemirror_mode": {
    "name": "ipython",
    "version": 3
   },
   "file_extension": ".py",
   "mimetype": "text/x-python",
   "name": "python",
   "nbconvert_exporter": "python",
   "pygments_lexer": "ipython3",
   "version": "3.8.8"
  }
 },
 "nbformat": 4,
 "nbformat_minor": 5
}
