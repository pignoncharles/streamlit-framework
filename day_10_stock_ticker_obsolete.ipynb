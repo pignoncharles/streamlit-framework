{
 "cells": [
  {
   "cell_type": "markdown",
   "id": "425ed591",
   "metadata": {},
   "source": [
    "Obsolete json-based"
   ]
  },
  {
   "cell_type": "code",
   "execution_count": 172,
   "id": "221b69a0",
   "metadata": {},
   "outputs": [],
   "source": [
    " import streamlit as st\n",
    "# To make things easier later, we're also importing numpy and pandas for\n",
    "# working with sample data.\n",
    "import numpy as np\n",
    "import pandas as pd\n",
    "import time\n",
    "\n",
    "import matplotlib.pyplot as plt\n",
    "from alpha_vantage.timeseries import TimeSeries\n",
    "\n",
    "\n",
    "\n",
    "import requests\n",
    "\n",
    "# replace the \"demo\" apikey below with your own key from https://www.alphavantage.co/support/#api-key\n",
    "url = 'https://www.alphavantage.co/query?function=TIME_SERIES_INTRADAY&symbol=IBM&interval=5min&apikey='\n",
    "# url = 'https://www.alphavantage.co/query?function=TIME_SERIES_INTRADAY&symbol=IBM&interval=60min&apikey='\n",
    "# url = 'https://www.alphavantage.co/query?function=TIME_SERIES_DAILY&symbol=IBM&apikey=demo'\n",
    "# url = 'https://www.alphavantage.co/query?function=TIME_SERIES_INTRADAY&symbol=IBM&interval=5min&slice=year2month5&apikey='\n",
    "# url = 'https://www.alphavantage.co/query?function=TIME_SERIES_INTRADAY_EXTENDED&symbol=IBM&interval=15min&slice=year1month1&apikey='\n",
    "r = requests.get(url)\n",
    "data = r.json()\n",
    "\n",
    "print(data)\n"
   ]
  },
  {
   "cell_type": "code",
   "execution_count": 164,
   "id": "16b497c6",
   "metadata": {
    "code_folding": []
   },
   "outputs": [],
   "source": [
    "#function to pull key-value pairs from data\n",
    "def nested_dict_pairs_iterator(dict_obj):\n",
    "    ''' This function accepts a nested dictionary as argument\n",
    "        and iterate over all values of nested dictionaries\n",
    "    '''\n",
    "    # Iterate over all key-value pairs of dict argument\n",
    "    for key, value in dict_obj.items():\n",
    "        # Check if value is of dict type\n",
    "        if isinstance(value, dict):\n",
    "            # If value is dict then iterate over all its values\n",
    "            for pair in  nested_dict_pairs_iterator(value):\n",
    "                yield (key, *pair)\n",
    "        else:\n",
    "            # If value is not dict type then yield the value\n",
    "            yield (key, value)\n"
   ]
  },
  {
   "cell_type": "code",
   "execution_count": 169,
   "id": "2cdf8fba",
   "metadata": {},
   "outputs": [],
   "source": [
    "#create empty list to hold the relevant key-value tuples\n",
    "tuples_list=[]\n",
    "#Loop through all key-value pairs of a nested dictionary\n",
    "# for pair in nested_dict_pairs_iterator(data['Time Series (5min)']):\n",
    "# for pair in nested_dict_pairs_iterator(data['Time Series (60min)']):\n",
    "for pair in nested_dict_pairs_iterator(data['Time Series (Daily)']):\n",
    "#     print(pair)\n",
    "    #add each tuple to the list\n",
    "    tuples_list.append(pair)\n",
    "\n",
    "#convert the tuples list into a df\n",
    "tuples_df = pd.DataFrame(tuples_list, columns=['date', 'item', 'values_column'])\n",
    "\n",
    "#keep only item=='open'\n",
    "tuples_df2=tuples_df[tuples_df['item']=='1. open']\n",
    "\n",
    "#drop item column\n",
    "tuples_df3=tuples_df2.drop(['item'], axis=1)\n",
    "\n",
    "#convert date to date, values_column to numeric\n",
    "tuples_df4=tuples_df3.assign(date=pd.to_datetime(tuples_df3['date'])).assign(values_column=pd.to_numeric(tuples_df3['values_column']))\n",
    "\n",
    "#set date index for plotting\n",
    "tuples_df5=tuples_df4.set_index('date')"
   ]
  },
  {
   "cell_type": "code",
   "execution_count": 170,
   "id": "504c76b0",
   "metadata": {},
   "outputs": [
    {
     "data": {
      "text/html": [
       "<div>\n",
       "<style scoped>\n",
       "    .dataframe tbody tr th:only-of-type {\n",
       "        vertical-align: middle;\n",
       "    }\n",
       "\n",
       "    .dataframe tbody tr th {\n",
       "        vertical-align: top;\n",
       "    }\n",
       "\n",
       "    .dataframe thead th {\n",
       "        text-align: right;\n",
       "    }\n",
       "</style>\n",
       "<table border=\"1\" class=\"dataframe\">\n",
       "  <thead>\n",
       "    <tr style=\"text-align: right;\">\n",
       "      <th></th>\n",
       "      <th>values_column</th>\n",
       "    </tr>\n",
       "    <tr>\n",
       "      <th>date</th>\n",
       "      <th></th>\n",
       "    </tr>\n",
       "  </thead>\n",
       "  <tbody>\n",
       "    <tr>\n",
       "      <th>2021-09-09</th>\n",
       "      <td>137.85</td>\n",
       "    </tr>\n",
       "    <tr>\n",
       "      <th>2021-09-08</th>\n",
       "      <td>138.14</td>\n",
       "    </tr>\n",
       "    <tr>\n",
       "      <th>2021-09-07</th>\n",
       "      <td>139.65</td>\n",
       "    </tr>\n",
       "    <tr>\n",
       "      <th>2021-09-03</th>\n",
       "      <td>139.68</td>\n",
       "    </tr>\n",
       "    <tr>\n",
       "      <th>2021-09-02</th>\n",
       "      <td>139.72</td>\n",
       "    </tr>\n",
       "  </tbody>\n",
       "</table>\n",
       "</div>"
      ],
      "text/plain": [
       "            values_column\n",
       "date                     \n",
       "2021-09-09         137.85\n",
       "2021-09-08         138.14\n",
       "2021-09-07         139.65\n",
       "2021-09-03         139.68\n",
       "2021-09-02         139.72"
      ]
     },
     "execution_count": 170,
     "metadata": {},
     "output_type": "execute_result"
    }
   ],
   "source": [
    "tuples_df5.head()"
   ]
  },
  {
   "cell_type": "code",
   "execution_count": 124,
   "id": "2641d53b",
   "metadata": {},
   "outputs": [
    {
     "data": {
      "text/plain": [
       "Timestamp('2021-09-08 16:10:00')"
      ]
     },
     "execution_count": 124,
     "metadata": {},
     "output_type": "execute_result"
    }
   ],
   "source": [
    "pd.to_datetime('2021-09-08 16:10:00')"
   ]
  },
  {
   "cell_type": "code",
   "execution_count": 143,
   "id": "613259e9",
   "metadata": {},
   "outputs": [
    {
     "data": {
      "text/plain": [
       "<AxesSubplot:xlabel='date2', ylabel='values_column2'>"
      ]
     },
     "execution_count": 143,
     "metadata": {},
     "output_type": "execute_result"
    },
    {
     "data": {
      "image/png": "[encoded data removed]",
      "text/plain": [
       "<Figure size 432x288 with 1 Axes>"
      ]
     },
     "metadata": {
      "needs_background": "light"
     },
     "output_type": "display_data"
    }
   ],
   "source": []
  },
  {
   "cell_type": "code",
   "execution_count": 111,
   "id": "5dde63f7",
   "metadata": {},
   "outputs": [
    {
     "name": "stderr",
     "output_type": "stream",
     "text": [
      "C:\\Users\\charl\\anaconda3\\lib\\site-packages\\streamlit\\elements\\arrow_altair.py:91: FutureWarning: This dataframe has a column name that matches the 'value_name' column name of the resulting Dataframe. In the future this will raise an error, please set the 'value_name' parameter of DataFrame.melt to a unique name.\n",
      "  chart = _generate_chart(ChartType.LINE, data, width, height)\n"
     ]
    }
   ],
   "source": [
    "# HERE WITH tuples_df ITERATE THRU ROWS TO plot graph\n",
    "chart = st.line_chart(tuples_df4)"
   ]
  },
  {
   "cell_type": "code",
   "execution_count": 14,
   "id": "190c500f",
   "metadata": {
    "scrolled": true
   },
   "outputs": [
    {
     "name": "stdout",
     "output_type": "stream",
     "text": [
      "1\n",
      "2\n",
      "3\n",
      "4\n",
      "5\n",
      "6\n",
      "7\n",
      "8\n",
      "9\n",
      "10\n",
      "11\n",
      "12\n",
      "13\n",
      "14\n",
      "15\n",
      "16\n",
      "17\n",
      "18\n",
      "19\n",
      "20\n",
      "21\n",
      "22\n",
      "23\n",
      "24\n",
      "25\n",
      "26\n",
      "27\n",
      "28\n",
      "29\n",
      "30\n",
      "31\n",
      "32\n",
      "33\n",
      "34\n",
      "35\n",
      "36\n",
      "37\n",
      "38\n",
      "39\n",
      "40\n",
      "41\n",
      "42\n",
      "43\n",
      "44\n",
      "45\n",
      "46\n",
      "47\n",
      "48\n",
      "49\n",
      "50\n",
      "51\n",
      "52\n",
      "53\n",
      "54\n",
      "55\n",
      "56\n",
      "57\n",
      "58\n",
      "59\n",
      "60\n",
      "61\n",
      "62\n",
      "63\n",
      "64\n",
      "65\n",
      "66\n",
      "67\n",
      "68\n",
      "69\n",
      "70\n",
      "71\n",
      "72\n",
      "73\n",
      "74\n",
      "75\n",
      "76\n",
      "77\n",
      "78\n",
      "79\n",
      "80\n",
      "81\n",
      "82\n",
      "83\n",
      "84\n",
      "85\n",
      "86\n",
      "87\n",
      "88\n",
      "89\n",
      "90\n",
      "91\n",
      "92\n",
      "93\n",
      "94\n",
      "95\n",
      "96\n",
      "97\n",
      "98\n",
      "99\n",
      "100\n"
     ]
    }
   ],
   "source": [
    "# progress_bar = st.sidebar.progress(0)\n",
    "# status_text = st.sidebar.empty()\n",
    "# last_rows = np.random.randn(1, 1)\n",
    "# chart = st.line_chart(last_rows)\n",
    "\n",
    "# for i in range(1, 101):\n",
    "#     new_rows = last_rows[-1, :] + np.random.randn(5, 1).cumsum(axis=0)\n",
    "# #     print(status_text.text(\"%i%% Complete\" % i))\n",
    "#     print(i)\n",
    "#     chart.add_rows(new_rows)\n",
    "# #     progress_bar.progress(i)\n",
    "#     last_rows = new_rows\n",
    "# #     time.sleep(0.05)\n",
    "\n",
    "# progress_bar.empty()"
   ]
  }
 ],
 "metadata": {
  "kernelspec": {
   "display_name": "Python 3",
   "language": "python",
   "name": "python3"
  },
  "language_info": {
   "codemirror_mode": {
    "name": "ipython",
    "version": 3
   },
   "file_extension": ".py",
   "mimetype": "text/x-python",
   "name": "python",
   "nbconvert_exporter": "python",
   "pygments_lexer": "ipython3",
   "version": "3.8.8"
  }
 },
 "nbformat": 4,
 "nbformat_minor": 5
}
